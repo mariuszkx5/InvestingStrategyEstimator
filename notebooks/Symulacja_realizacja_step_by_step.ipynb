{
  "nbformat": 4,
  "nbformat_minor": 0,
  "metadata": {
    "colab": {
      "name": "Symulacja_realizacja_step_by_step.ipynb",
      "provenance": [],
      "collapsed_sections": []
    },
    "kernelspec": {
      "display_name": "Python 3",
      "name": "python3"
    },
    "language_info": {
      "name": "python"
    }
  },
  "cells": [
    {
      "cell_type": "markdown",
      "metadata": {
        "id": "xyeAzrBtaoL9"
      },
      "source": [
        "Korzystaj z tego co już się nauczyłeś:\n",
        "\n",
        "-twórz wrapery funkcji --> tych funkcji, które później rozwijasz (jest w etap 1 i 2) dekorowanie z functools.wraps\n",
        "-przerzucaj to do bibliotek\n",
        "-zastanów się czy można i czy jest sens robić refraktoryzacje do klas\n",
        "-rób commity --> gdy zmieniasz mały fragment kodu\n",
        "-stórz najprostrze flow dockera na nodach\n",
        "-stwórz tabele w której odnosisz się do danego datasetu -->  skorzystaj z nakładki Sebastiana apropos hive\n",
        "-stwórz bardzioj ogólne funkcje które bazuja na ścierzkach\n",
        "-unitesty\n",
        "-profilowanie\n",
        "-dodawaj sugestie do typów zmiennych i wyjścia z funkcji metod\n",
        "-korzystaj z pylint do poprawy modułów i skryptów"
      ]
    },
    {
      "cell_type": "markdown",
      "metadata": {
        "id": "7QOvpJy-B3uG"
      },
      "source": [
        "stwórz projekt z szablony projektów\n",
        "zrób pierwszego pusha\n",
        "połącz google colab z tym repo i dodawaj go do notebooks\n",
        "zrób też projek template na git\n"
      ]
    },
    {
      "cell_type": "markdown",
      "metadata": {
        "id": "bkihUmAxazM8"
      },
      "source": [
        "Dodawaj tylko sugestie do typów\n",
        "colab_quick_conception"
      ]
    },
    {
      "cell_type": "code",
      "metadata": {
        "id": "7t6XpUmmwvRA"
      },
      "source": [
        "import matplotlib.pyplot as plt"
      ],
      "execution_count": null,
      "outputs": []
    },
    {
      "cell_type": "code",
      "metadata": {
        "id": "JIEf8LDh0zqB"
      },
      "source": [
        "import pandas as pd\n",
        "import numpy as np"
      ],
      "execution_count": null,
      "outputs": []
    },
    {
      "cell_type": "code",
      "metadata": {
        "id": "U2LfY4_nBoU4"
      },
      "source": [
        "class Player:\n",
        "    \"\"\"Just keep the money in a socket\"\"\"\n",
        "    def __init__(self, months_to_simulate=0, money_to_invest=0, money=0):\n",
        "        self.months_to_simulate = months_to_simulate\n",
        "        self.money_to_invest = money_to_invest\n",
        "        self.money = money\n",
        "        self.money_timestemp = []\n",
        "        self.day = 0    \n",
        "\n",
        "    def new_day(self):\n",
        "        self.day += 1\n",
        "\n",
        "        if self.day%23 == 0:\n",
        "            self.money_timestemp.append(self.whole_money())\n",
        "            self.money_to_invest += 1000\n",
        "        \n",
        "        self.should_I_buy()\n",
        "    \n",
        "    def plot(self):\n",
        "        plt.plot(self.money_timestemp)\n",
        "\n",
        "    def simulate_period_of_time(self):\n",
        "        for _ in range(23*self.months_to_simulate):\n",
        "            self.new_day()\n",
        "    \n",
        "    def should_I_buy(self):\n",
        "        if self.money_to_invest > 0:\n",
        "            self.money += self.money_to_invest\n",
        "            self.money_to_invest = 0\n",
        "    \n",
        "    def whole_money(self):\n",
        "        return self.money\n",
        "        "
      ],
      "execution_count": null,
      "outputs": []
    },
    {
      "cell_type": "code",
      "metadata": {
        "id": "8re_6gCGt6FM"
      },
      "source": [
        "iwda = pd.read_csv('https://stooq.pl/q/d/l/?s=iwda.uk&i=d')"
      ],
      "execution_count": null,
      "outputs": []
    },
    {
      "cell_type": "code",
      "metadata": {
        "id": "wFXp9VScPYJ6"
      },
      "source": [
        "iwda = iwda[['Data', 'Zamkniecie']]"
      ],
      "execution_count": null,
      "outputs": []
    },
    {
      "cell_type": "code",
      "metadata": {
        "id": "1SH6DhC-Pptb"
      },
      "source": [
        "iwda=iwda.rename(columns={'Data':'ds', 'Zamkniecie':'y'})"
      ],
      "execution_count": null,
      "outputs": []
    },
    {
      "cell_type": "code",
      "metadata": {
        "id": "zJivZq7UwdNd"
      },
      "source": [
        "lazy_player = Player(months_to_simulate=48)"
      ],
      "execution_count": null,
      "outputs": []
    },
    {
      "cell_type": "code",
      "metadata": {
        "id": "IM9ks9kMtFSc"
      },
      "source": [
        "lazy_player.simulate_period_of_time()"
      ],
      "execution_count": null,
      "outputs": []
    },
    {
      "cell_type": "code",
      "metadata": {
        "colab": {
          "base_uri": "https://localhost:8080/",
          "height": 265
        },
        "id": "PXiZ_4ElxC0_",
        "outputId": "3569ebbe-3d78-441d-a93f-494399a6c97d"
      },
      "source": [
        "lazy_player.plot()"
      ],
      "execution_count": null,
      "outputs": [
        {
          "data": {
            "image/png": "[encoded data removed]",
            "text/plain": [
              "<Figure size 432x288 with 1 Axes>"
            ]
          },
          "metadata": {},
          "output_type": "display_data"
        }
      ]
    },
    {
      "cell_type": "code",
      "metadata": {
        "id": "bTCiasfwxLPk"
      },
      "source": [
        "class SimplePlayer(Player):\n",
        "    \"\"\"Buys when he has the money\"\"\"\n",
        "    def __init__(self, months_to_simulate, iwda, money_to_invest=0):\n",
        "        super().__init__(months_to_simulate, money_to_invest=0)\n",
        "        self.iwda = iwda['y'].values.tolist()[-23*self.months_to_simulate:]\n",
        "        self.iwda_numb = 0\n",
        "    \n",
        "    def should_I_buy(self):\n",
        "        self.avaiable_iwda = self.money_to_invest//self.iwda[self.day-1]\n",
        "        if self.avaiable_iwda > 0:\n",
        "            self.iwda_numb += self.avaiable_iwda\n",
        "            self.money_to_invest -= self.avaiable_iwda*self.iwda[self.day-1]\n",
        "            self.avaiable_iwda = 0\n",
        "\n",
        "    def whole_money(self):\n",
        "        return self.money_to_invest + self.iwda_numb*self.iwda[self.day-1]"
      ],
      "execution_count": null,
      "outputs": []
    },
    {
      "cell_type": "code",
      "metadata": {
        "id": "ynBPRmj_3egk"
      },
      "source": [
        "simple_player = SimplePlayer(iwda=iwda, months_to_simulate=48)"
      ],
      "execution_count": null,
      "outputs": []
    },
    {
      "cell_type": "code",
      "metadata": {
        "id": "J7Ggdl7D3iRD"
      },
      "source": [
        "simple_player.simulate_period_of_time()"
      ],
      "execution_count": null,
      "outputs": []
    },
    {
      "cell_type": "code",
      "metadata": {
        "colab": {
          "base_uri": "https://localhost:8080/",
          "height": 265
        },
        "id": "Q57HHod83plU",
        "outputId": "965a73df-57c6-4d3b-edc5-ff06544417fb"
      },
      "source": [
        "simple_player.plot()\n",
        "lazy_player.plot()"
      ],
      "execution_count": null,
      "outputs": [
        {
          "data": {
            "image/png": "[encoded data removed]",
            "text/plain": [
              "<Figure size 432x288 with 1 Axes>"
            ]
          },
          "metadata": {},
          "output_type": "display_data"
        }
      ]
    },
    {
      "cell_type": "code",
      "metadata": {
        "colab": {
          "base_uri": "https://localhost:8080/"
        },
        "id": "llxJPXh_30n1",
        "outputId": "4650a6e9-ff5e-4af4-fa89-af05100fa773"
      },
      "source": [
        "simple_player.whole_money()/48000"
      ],
      "execution_count": null,
      "outputs": [
        {
          "data": {
            "text/plain": [
              "1.4512287499999998"
            ]
          },
          "execution_count": 310,
          "metadata": {},
          "output_type": "execute_result"
        }
      ]
    },
    {
      "cell_type": "code",
      "metadata": {
        "colab": {
          "base_uri": "https://localhost:8080/"
        },
        "id": "XAo7Ga7p59dF",
        "outputId": "3fe3caf4-46ab-4e71-af52-9437781ddc10"
      },
      "source": [
        "simple_player.iwda_numb"
      ],
      "execution_count": null,
      "outputs": [
        {
          "data": {
            "text/plain": [
              "817.0"
            ]
          },
          "execution_count": 311,
          "metadata": {},
          "output_type": "execute_result"
        }
      ]
    },
    {
      "cell_type": "markdown",
      "metadata": {
        "id": "H9SgEV0e0TuS"
      },
      "source": [
        "naive way to simulate the strateg but I wontet to be sure that my outcome is correct, it could be slow"
      ]
    },
    {
      "cell_type": "code",
      "metadata": {
        "id": "-N4o58S-4eqe"
      },
      "source": [
        "class SimpleDipSearcher(SimplePlayer):\n",
        "    '''Buys when anomaly is detected'''\n",
        "    def __init__(self, months_to_simulate, iwda, money_to_invest=0):\n",
        "        super().__init__(months_to_simulate, iwda, money_to_invest=0)\n",
        "    \n",
        "    def should_I_buy(self):\n",
        "        self.avaiable_iwda = self.money_to_invest//self.iwda[self.day-1]\n",
        "        if self.avaiable_iwda > 0 and self.good_deal_search():\n",
        "            self.iwda_numb += self.avaiable_iwda\n",
        "            self.money_to_invest -= self.avaiable_iwda*self.iwda[self.day-1]\n",
        "            self.avaiable_iwda = 0\n",
        "        \n",
        "    def good_deal_search(self, window=10):\n",
        "        try:\n",
        "            x = np.arange(0,window-1)\n",
        "            y = np.array(self.iwda[self.day-window:self.day-1])\n",
        "            a, b = np.polyfit(x, y, 1)\n",
        "            local_pred = a*window + b\n",
        "            dip = 2*(self.iwda[self.day] - local_pred)/(self.iwda[self.day]+local_pred)\n",
        "            return dip < -0.007\n",
        "        except:\n",
        "            return False"
      ],
      "execution_count": null,
      "outputs": []
    },
    {
      "cell_type": "code",
      "metadata": {
        "id": "_bRuoB96Jv40"
      },
      "source": [
        "simple_dip_searcher = SimpleDipSearcher(iwda=iwda, months_to_simulate=48)"
      ],
      "execution_count": null,
      "outputs": []
    },
    {
      "cell_type": "code",
      "metadata": {
        "id": "d1Set-xVNO7U"
      },
      "source": [
        "simple_dip_searcher.simulate_period_of_time()"
      ],
      "execution_count": null,
      "outputs": []
    },
    {
      "cell_type": "code",
      "metadata": {
        "colab": {
          "base_uri": "https://localhost:8080/",
          "height": 265
        },
        "id": "k4BebnwKM5qp",
        "outputId": "1398e9bd-fa31-47ff-95fe-a801b286065b"
      },
      "source": [
        "simple_dip_searcher.plot()\n",
        "simple_player.plot()\n",
        "lazy_player.plot()\n"
      ],
      "execution_count": null,
      "outputs": [
        {
          "data": {
            "image/png": "[encoded data removed]",
            "text/plain": [
              "<Figure size 432x288 with 1 Axes>"
            ]
          },
          "metadata": {},
          "output_type": "display_data"
        }
      ]
    },
    {
      "cell_type": "code",
      "metadata": {
        "colab": {
          "base_uri": "https://localhost:8080/"
        },
        "id": "1DwEn7olPoTh",
        "outputId": "f85c1108-eb3f-4c6a-9307-bb24d3435345"
      },
      "source": [
        "simple_player.whole_money()/48000"
      ],
      "execution_count": null,
      "outputs": [
        {
          "data": {
            "text/plain": [
              "1.4512287499999998"
            ]
          },
          "execution_count": 316,
          "metadata": {},
          "output_type": "execute_result"
        }
      ]
    },
    {
      "cell_type": "code",
      "metadata": {
        "id": "wFucGzyV0AsH"
      },
      "source": [
        "\n",
        "from fbprophet import Prophet\n"
      ],
      "execution_count": null,
      "outputs": []
    },
    {
      "cell_type": "code",
      "metadata": {
        "colab": {
          "base_uri": "https://localhost:8080/"
        },
        "id": "gHvElO9f56Xd",
        "outputId": "329a7a38-5121-49f2-bdbb-919983cf5991"
      },
      "source": [
        "model = Prophet()\n",
        "model.fit(iwda)"
      ],
      "execution_count": null,
      "outputs": [
        {
          "name": "stderr",
          "output_type": "stream",
          "text": [
            "INFO:fbprophet:Disabling daily seasonality. Run prophet with daily_seasonality=True to override this.\n"
          ]
        },
        {
          "data": {
            "text/plain": [
              "<fbprophet.forecaster.Prophet at 0x7f8cd8a01290>"
            ]
          },
          "execution_count": 318,
          "metadata": {},
          "output_type": "execute_result"
        }
      ]
    },
    {
      "cell_type": "code",
      "metadata": {
        "id": "qQz87nQNONYR"
      },
      "source": [
        "future = model.make_future_dataframe(periods=3, freq = 'm')"
      ],
      "execution_count": null,
      "outputs": []
    },
    {
      "cell_type": "code",
      "metadata": {
        "id": "Cncm8e9bOimE"
      },
      "source": [
        "forecast = model.predict(future)"
      ],
      "execution_count": null,
      "outputs": []
    },
    {
      "cell_type": "code",
      "metadata": {
        "colab": {
          "base_uri": "https://localhost:8080/",
          "height": 81
        },
        "id": "u7n-rKvjS_rm",
        "outputId": "f95b4e05-12f6-47df-b72f-f2dc0fa1e91b"
      },
      "source": [
        "forecast.loc[forecast['ds'] == iwda.iloc[-1]['ds']][['yhat_lower', 'yhat_upper']]"
      ],
      "execution_count": null,
      "outputs": [
        {
          "data": {
            "text/html": [
              "<div>\n",
              "<style scoped>\n",
              "    .dataframe tbody tr th:only-of-type {\n",
              "        vertical-align: middle;\n",
              "    }\n",
              "\n",
              "    .dataframe tbody tr th {\n",
              "        vertical-align: top;\n",
              "    }\n",
              "\n",
              "    .dataframe thead th {\n",
              "        text-align: right;\n",
              "    }\n",
              "</style>\n",
              "<table border=\"1\" class=\"dataframe\">\n",
              "  <thead>\n",
              "    <tr style=\"text-align: right;\">\n",
              "      <th></th>\n",
              "      <th>yhat_lower</th>\n",
              "      <th>yhat_upper</th>\n",
              "    </tr>\n",
              "  </thead>\n",
              "  <tbody>\n",
              "    <tr>\n",
              "      <th>1635</th>\n",
              "      <td>84.901318</td>\n",
              "      <td>89.17477</td>\n",
              "    </tr>\n",
              "  </tbody>\n",
              "</table>\n",
              "</div>"
            ],
            "text/plain": [
              "      yhat_lower  yhat_upper\n",
              "1635   84.901318    89.17477"
            ]
          },
          "execution_count": 321,
          "metadata": {},
          "output_type": "execute_result"
        }
      ]
    },
    {
      "cell_type": "code",
      "metadata": {
        "colab": {
          "base_uri": "https://localhost:8080/",
          "height": 35
        },
        "id": "gHFT1S15zjpc",
        "outputId": "870c2863-783f-49a1-89b3-19d204e4ef51"
      },
      "source": [
        "yhat_lower"
      ],
      "execution_count": null,
      "outputs": [
        {
          "data": {
            "application/vnd.google.colaboratory.intrinsic+json": {
              "type": "string"
            },
            "text/plain": [
              "'yhat_lower'"
            ]
          },
          "execution_count": 322,
          "metadata": {},
          "output_type": "execute_result"
        }
      ]
    },
    {
      "cell_type": "code",
      "metadata": {
        "id": "HQQH-Mg3OxUl"
      },
      "source": [
        "class ProphetStableSearcher(SimpleDipSearcher):\n",
        "    '''Buys when anomaly is detected'''\n",
        "    def __init__(self, months_to_simulate, iwda, money_to_invest=0):\n",
        "        super().__init__(months_to_simulate, iwda, money_to_invest=0)\n",
        "        self.df_iwda = iwda\n",
        "        \n",
        "    def good_deal_search(self, window=10):\n",
        "        model = Prophet()\n",
        "        model.fit(self.df_iwda)\n",
        "        future = model.make_future_dataframe(periods=3, freq = 'm')\n",
        "        forecast = model.predict(future)\n",
        "        today = forecast.loc[forecast['ds'] == self.df_iwda.iloc[-1]['ds']][['yhat_lower', 'yhat_upper']]\n",
        "        yhat_lower, yhat_upper = today.yhat_lower.values[0], today.yhat_upper.values[0]\n",
        "        if self.iwda[-1]>yhat_lower and self.iwda[-1]<yhat_upper:\n",
        "            print(forecast.iloc[-1]['yhat']/self.iwda[-1])\n",
        "            print(self.iwda[-1])\n",
        "            return forecast.iloc[-1]['yhat']/self.iwda[-1] > 1.03"
      ],
      "execution_count": null,
      "outputs": []
    },
    {
      "cell_type": "code",
      "metadata": {
        "id": "qM27aEemUIzz"
      },
      "source": [
        ""
      ],
      "execution_count": null,
      "outputs": []
    },
    {
      "cell_type": "code",
      "metadata": {
        "id": "v1pY9M-Gycnj"
      },
      "source": [
        "prophet_stable_searcher = ProphetStableSearcher(iwda=iwda, months_to_simulate=4)"
      ],
      "execution_count": null,
      "outputs": []
    },
    {
      "cell_type": "code",
      "metadata": {
        "colab": {
          "base_uri": "https://localhost:8080/"
        },
        "id": "TXuKnhb-ycnz",
        "outputId": "e32a21aa-5d93-4a1c-c8a5-ed0406337e3e"
      },
      "source": [
        "prophet_stable_searcher.simulate_period_of_time()"
      ],
      "execution_count": null,
      "outputs": [
        {
          "name": "stderr",
          "output_type": "stream",
          "text": [
            "INFO:fbprophet:Disabling daily seasonality. Run prophet with daily_seasonality=True to override this.\n",
            "INFO:fbprophet:Disabling daily seasonality. Run prophet with daily_seasonality=True to override this.\n"
          ]
        },
        {
          "name": "stdout",
          "output_type": "stream",
          "text": [
            "1.061393719700659\n",
            "85.26\n"
          ]
        },
        {
          "name": "stderr",
          "output_type": "stream",
          "text": [
            "INFO:fbprophet:Disabling daily seasonality. Run prophet with daily_seasonality=True to override this.\n"
          ]
        },
        {
          "name": "stdout",
          "output_type": "stream",
          "text": [
            "1.061393719700659\n",
            "85.26\n"
          ]
        },
        {
          "name": "stderr",
          "output_type": "stream",
          "text": [
            "INFO:fbprophet:Disabling daily seasonality. Run prophet with daily_seasonality=True to override this.\n"
          ]
        },
        {
          "name": "stdout",
          "output_type": "stream",
          "text": [
            "1.061393719700659\n",
            "85.26\n",
            "1.061393719700659\n",
            "85.26\n"
          ]
        }
      ]
    },
    {
      "cell_type": "code",
      "metadata": {
        "colab": {
          "base_uri": "https://localhost:8080/",
          "height": 265
        },
        "id": "FZ4WTDDCycnz",
        "outputId": "7c351c3a-2de2-49bd-ac96-dad1c0f88380"
      },
      "source": [
        "prophet_stable_searcher.plot()\n",
        "simple_dip_searcher.plot()\n",
        "simple_player.plot()\n",
        "lazy_player.plot()\n"
      ],
      "execution_count": null,
      "outputs": [
        {
          "data": {
            "image/png": "[encoded data removed]",
            "text/plain": [
              "<Figure size 432x288 with 1 Axes>"
            ]
          },
          "metadata": {},
          "output_type": "display_data"
        }
      ]
    },
    {
      "cell_type": "code",
      "metadata": {
        "colab": {
          "base_uri": "https://localhost:8080/",
          "height": 265
        },
        "id": "-Lm6xGRUylmG",
        "outputId": "180409ad-ed8e-4917-e9e8-42f8bbdf1dea"
      },
      "source": [
        "prophet_stable_searcher.plot()"
      ],
      "execution_count": null,
      "outputs": [
        {
          "data": {
            "image/png": "[encoded data removed]",
            "text/plain": [
              "<Figure size 432x288 with 1 Axes>"
            ]
          },
          "metadata": {},
          "output_type": "display_data"
        }
      ]
    },
    {
      "cell_type": "code",
      "metadata": {
        "id": "URF-xHyVKleL"
      },
      "source": [
        "class ProphetSearcher(SimpleDipSearcher):\n",
        "    '''Buys when anomaly is detected'''\n",
        "    def __init__(self, months_to_simulate, iwda, money_to_invest=0):\n",
        "        super().__init__(months_to_simulate, iwda, money_to_invest=0)\n",
        "        self.df_iwda = iwda\n",
        "        \n",
        "    def good_deal_search(self, window=10):\n",
        "        try:\n",
        "            model = Prophet()\n",
        "            model.fit(self.df_iwda)\n",
        "            future = model.make_future_dataframe(periods=3, freq = 'm')\n",
        "            forecast = model.predict(future)\n",
        "            today = forecast.loc[forecast['ds'] == self.df_iwda.iloc[-1]['ds']][['yhat_lower', 'yhat_upper']]\n",
        "            yhat_lower, yhat_upper = today.yhat_lower, today.yhat_upper\n",
        "            if self.iwda[-1]>yhat_lower and self.iwda[-1]<yhat_upper:\n",
        "                \n",
        "                return forecast.iloc[-1]['yhat']/self.iwda[-1] > 1.03 or yhat_lower/self.iwda[-1]<0.95\n",
        "        except:\n",
        "            return False"
      ],
      "execution_count": null,
      "outputs": []
    },
    {
      "cell_type": "code",
      "metadata": {
        "id": "U8pwZipcKxGK"
      },
      "source": [
        "prophet_searcher = ProphetSearcher(iwda=iwda, months_to_simulate=48)"
      ],
      "execution_count": null,
      "outputs": []
    },
    {
      "cell_type": "code",
      "metadata": {
        "colab": {
          "background_save": true
        },
        "id": "DJzZBPD0KxGr"
      },
      "source": [
        "prophet_searcher.simulate_period_of_time()"
      ],
      "execution_count": null,
      "outputs": []
    },
    {
      "cell_type": "code",
      "metadata": {
        "colab": {
          "background_save": true
        },
        "id": "3ig-5BQtK2j7",
        "outputId": "8410bd6d-ceb0-46a6-b674-e8ee3bf8330e"
      },
      "source": [
        "prophet_searcher.plot()\n",
        "prophet_stable_searcher.plot()\n",
        "simple_dip_searcher.plot()\n",
        "simple_player.plot()\n",
        "lazy_player.plot()"
      ],
      "execution_count": null,
      "outputs": [
        {
          "data": {
            "image/png": "[encoded data removed]",
            "text/plain": [
              "<Figure size 432x288 with 1 Axes>"
            ]
          },
          "metadata": {},
          "output_type": "display_data"
        }
      ]
    },
    {
      "cell_type": "markdown",
      "metadata": {
        "id": "Xn_kmuLL7gwN"
      },
      "source": [
        "może dorzucić logarytm?\n"
      ]
    },
    {
      "cell_type": "markdown",
      "metadata": {
        "id": "L9PQiV1aEC1x"
      },
      "source": [
        "dodać wektor priorytetu\n",
        "\n",
        "Mam docelowe prororcje i tam gdzie są najbardziej oddalone od docelowych to to ma najwyższy prioryter. Mogę sprawdzic poprawę wachań portwela ofejmując liniowy trend i sprawdzając jak duże dolinki i górki zostaną"
      ]
    },
    {
      "cell_type": "markdown",
      "metadata": {
        "id": "U-YLnIncFbuq"
      },
      "source": [
        "Czyli jeszcze sprawdź co daje rozwiązanie mieszane i rozwiązanie z priorytetami oraz z anomaliami i bez. I czy warto czekać na anomalie i czy nie lepiej korzytać z prostych modeli kupowania co miesiąc i tyle"
      ]
    },
    {
      "cell_type": "markdown",
      "metadata": {
        "id": "w-Q5ztrxIkFh"
      },
      "source": [
        "Sprawdź jak działa proste rozwiązanie gdzie kupujesz raz na miesiąc"
      ]
    },
    {
      "cell_type": "markdown",
      "metadata": {
        "id": "2G_qLJ84LXPt"
      },
      "source": [
        "sensowne opje do przetestowania:\n",
        "\n",
        "...\n",
        "\n",
        "\n",
        "Które są najistotniejsze?\n",
        "\n",
        "\n",
        "\n",
        "Przetestuj najistotniejsze"
      ]
    },
    {
      "cell_type": "markdown",
      "metadata": {
        "id": "7dWkS-DBMiDa"
      },
      "source": [
        ""
      ]
    },
    {
      "cell_type": "code",
      "metadata": {
        "id": "O-yRlgli7jqI"
      },
      "source": [
        ""
      ],
      "execution_count": null,
      "outputs": []
    }
  ]
}